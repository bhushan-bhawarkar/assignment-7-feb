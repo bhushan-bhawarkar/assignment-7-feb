{
 "cells": [
  {
   "cell_type": "markdown",
   "id": "4c2f85b2-604b-4583-92c7-9e5618d55629",
   "metadata": {},
   "source": [
    "Q1. You are writing code for a company. The requirement of the company is that you create a python\n",
    "function that will check whether the password entered by the user is correct or not. The function should\n",
    "take the password as input and return the string “Valid Password” if the entered password follows the\n",
    "below-given password guidelines else it should return “Invalid Password”.\n",
    "Note: 1. The Password should contain at least two uppercase letters and at least two lowercase letters.\n",
    "2. The Password should contain at least a number and three special characters.\n",
    "3. The length of the password should be 10 characters long."
   ]
  },
  {
   "cell_type": "code",
   "execution_count": 1,
   "id": "251a8a9c-a635-48eb-9475-de79c83a5a0b",
   "metadata": {},
   "outputs": [
    {
     "name": "stdin",
     "output_type": "stream",
     "text": [
      "Enter your password :  PAss@#$3456jn\n"
     ]
    },
    {
     "name": "stdout",
     "output_type": "stream",
     "text": [
      "Valid Password\n"
     ]
    }
   ],
   "source": [
    "pa_word = input(\"Enter your password : \")\n",
    "def pass_word(pa_word):\n",
    "    upper = 0\n",
    "    lower = 0\n",
    "    special = 0\n",
    "    digit =0\n",
    "    for i in pa_word:\n",
    "        if i.isupper():\n",
    "            upper+=1\n",
    "        elif i.islower():\n",
    "            lower+=1\n",
    "        elif i.isdigit():\n",
    "            digit+=1\n",
    "        elif i in \"!@#$%^&*\":\n",
    "            special+=1\n",
    "\n",
    "    if upper>=2 and lower>=2 and digit>=1 and special>=3 and len(pa_word)>=10:\n",
    "        return \"Valid Password\"\n",
    "    else:\n",
    "        return \"Invalid Password\"\n",
    "\n",
    "print(pass_word(pa_word))            \n",
    "                        "
   ]
  },
  {
   "cell_type": "markdown",
   "id": "be0fbf2a-e234-41cb-9ef7-00e7249f51dc",
   "metadata": {},
   "source": [
    "Q2. Solve the below-given questions using at least one of the following:\n",
    "1. Lambda functioJ\n",
    "2. Filter functioJ\n",
    "3. Zap functioJ\n",
    "4. List ComprehensioI\n",
    "B Check if the string starts with a particular letterY\n",
    "B Check if the string is numericY\n",
    "B Sort a list of tuples having fruit names and their quantity. [(\"mango\",99),(\"orange\",80), (\"grapes\", 1000)-\n",
    "B Find the squares of numbers from 1 to 10Y\n",
    "B Find the cube root of numbers from 1 to 10Y\n",
    "B Check if a given number is evenY\n",
    "B Filter odd numbers from the given list.\n",
    "[1,2,3,4,5,6,7,8,9,10-\n",
    "B Sort a list of integers into positive and negative integers lists.\n",
    "[1,2,3,4,5,6,-1,-2,-3,-4,-5,0]"
   ]
  },
  {
   "cell_type": "code",
   "execution_count": 10,
   "id": "c106b6fd-8234-4b71-951b-8a8e6e7b8456",
   "metadata": {},
   "outputs": [
    {
     "name": "stdout",
     "output_type": "stream",
     "text": [
      "['How', 'Hello']\n"
     ]
    }
   ],
   "source": [
    "# Check if the string starts with a particular letterY\n",
    "#first way\n",
    "l = [\"How\",\"Hello\",\"What\",\"Why\"]\n",
    "a = filter(lambda x: x.startswith(\"H\"), l)\n",
    "print(list(a))"
   ]
  },
  {
   "cell_type": "code",
   "execution_count": 12,
   "id": "270538f7-15e7-442b-acb3-2bdebd93a814",
   "metadata": {},
   "outputs": [
    {
     "name": "stdout",
     "output_type": "stream",
     "text": [
      "['How', 'Hello']\n"
     ]
    }
   ],
   "source": [
    "l = [\"How\",\"Hello\",\"What\",\"Why\"]\n",
    "a = [i for i in l if i.startswith(\"H\")]\n",
    "print(a)"
   ]
  },
  {
   "cell_type": "markdown",
   "id": "bcb881e3-d3dc-46c7-9412-2fc5f7292930",
   "metadata": {},
   "source": [
    "Check if the string is numericY"
   ]
  },
  {
   "cell_type": "code",
   "execution_count": null,
   "id": "739865ec-d8ce-4ad0-be36-b7cf8562c911",
   "metadata": {},
   "outputs": [
    {
     "data": {
      "text/plain": [
       "True"
      ]
     },
     "execution_count": 12,
     "metadata": {},
     "output_type": "execute_result"
    }
   ],
   "source": [
    "sting = \"123445\"\n",
    "a = lambda x : x.isdigit()\n",
    "a(sting)\n",
    "\n",
    "    \n",
    "    \n",
    "        "
   ]
  },
  {
   "cell_type": "markdown",
   "id": "c1f67f53-e478-4a5d-a7d6-b4e24758237c",
   "metadata": {},
   "source": [
    "Sort a list of tuples having fruit names and their quantity. [(\"mango\",99),(\"orange\",80), (\"grapes\", 1000)-"
   ]
  },
  {
   "cell_type": "code",
   "execution_count": 2,
   "id": "77f47497-cd9b-4e4f-a040-4125021c17fe",
   "metadata": {},
   "outputs": [
    {
     "name": "stdout",
     "output_type": "stream",
     "text": [
      "[('orange', 80), ('mango', 99), ('grapes', 1000)]\n"
     ]
    }
   ],
   "source": [
    "l = [(\"mango\",99),(\"orange\",80), (\"grapes\", 1000)]\n",
    "a = sorted( l ,key = lambda x : x[1])\n",
    "print(a)"
   ]
  },
  {
   "cell_type": "markdown",
   "id": "49317c9e-f5d2-4ea0-98b2-dda99e5aaed7",
   "metadata": {},
   "source": [
    "Find the squares of numbers from 1 to 10Y"
   ]
  },
  {
   "cell_type": "code",
   "execution_count": 6,
   "id": "19c37be6-bad1-4151-b514-fe5e7e9bf766",
   "metadata": {},
   "outputs": [
    {
     "data": {
      "text/plain": [
       "[1, 4, 9, 16, 25, 36, 49, 64, 81, 100]"
      ]
     },
     "execution_count": 6,
     "metadata": {},
     "output_type": "execute_result"
    }
   ],
   "source": [
    "l = [1, 2, 3, 4, 5, 6, 7, 8, 9, 10]\n",
    "a = map(lambda x : x**2 ,l)\n",
    "list(a)\n"
   ]
  },
  {
   "cell_type": "code",
   "execution_count": 7,
   "id": "34d441e6-b356-40e8-9ccf-527748e203c7",
   "metadata": {},
   "outputs": [
    {
     "data": {
      "text/plain": [
       "[1, 4, 9, 16, 25, 36, 49, 64, 81, 100]"
      ]
     },
     "execution_count": 7,
     "metadata": {},
     "output_type": "execute_result"
    }
   ],
   "source": [
    "#other way \n",
    "a = [i**2 for i in range(1,11)]\n",
    "list(a)"
   ]
  },
  {
   "cell_type": "markdown",
   "id": "6be088a6-90c5-4dcd-a5d4-7c59ad2c5c39",
   "metadata": {},
   "source": [
    "B Find the cube root of numbers from 1 to 10Y"
   ]
  },
  {
   "cell_type": "code",
   "execution_count": 9,
   "id": "b067b232-620b-48a1-8082-5969a9c5014d",
   "metadata": {},
   "outputs": [
    {
     "data": {
      "text/plain": [
       "[1, 8, 27, 64, 125, 216, 343, 512, 729, 1000]"
      ]
     },
     "execution_count": 9,
     "metadata": {},
     "output_type": "execute_result"
    }
   ],
   "source": [
    "# without using lambda funtion \n",
    "a = [i**3 for i in range(1,11)]\n",
    "list(a)"
   ]
  },
  {
   "cell_type": "markdown",
   "id": "4db030e6-9b1a-4f4c-a427-b5fc479bff1f",
   "metadata": {},
   "source": [
    "B Check if a given number is evenY"
   ]
  },
  {
   "cell_type": "code",
   "execution_count": 11,
   "id": "28342d89-c9c3-470d-8b37-0347a81ab91b",
   "metadata": {},
   "outputs": [
    {
     "name": "stdin",
     "output_type": "stream",
     "text": [
      "enter your no :  3\n"
     ]
    },
    {
     "data": {
      "text/plain": [
       "False"
      ]
     },
     "execution_count": 11,
     "metadata": {},
     "output_type": "execute_result"
    }
   ],
   "source": [
    "num = int(input(\"enter your no : \"))\n",
    "a = lambda num : num%2 ==0\n",
    "a(num)"
   ]
  },
  {
   "cell_type": "markdown",
   "id": "a2c615e1-8f45-43ac-95b8-bd977bbfc199",
   "metadata": {},
   "source": [
    "Filter odd numbers from the given list.\n",
    "[1,2,3,4,5,6,7,8,9,10-"
   ]
  },
  {
   "cell_type": "code",
   "execution_count": 13,
   "id": "21fdc854-e031-4dde-9d85-f163650aff59",
   "metadata": {},
   "outputs": [
    {
     "data": {
      "text/plain": [
       "[1, 3, 5, 7, 9]"
      ]
     },
     "execution_count": 13,
     "metadata": {},
     "output_type": "execute_result"
    }
   ],
   "source": [
    "l = [1,2,3,4,5,6,7,8,9,10]\n",
    "a = filter(lambda x : x%2 !=0 , l)\n",
    "list(a)"
   ]
  },
  {
   "cell_type": "markdown",
   "id": "71ac10b6-ac88-4cdb-bb7f-a4ef7e74eea4",
   "metadata": {},
   "source": [
    "B Sort a list of integers into positive and negative integers lists.\n",
    "[1,2,3,4,5,6,-1,-2,-3,-4,-5,0]"
   ]
  },
  {
   "cell_type": "code",
   "execution_count": 16,
   "id": "949aecaf-f1d1-4d4a-8ee1-2c0d1ca98d44",
   "metadata": {},
   "outputs": [
    {
     "ename": "TypeError",
     "evalue": "sorted expected 1 argument, got 2",
     "output_type": "error",
     "traceback": [
      "\u001b[0;31m---------------------------------------------------------------------------\u001b[0m",
      "\u001b[0;31mTypeError\u001b[0m                                 Traceback (most recent call last)",
      "Cell \u001b[0;32mIn[16], line 2\u001b[0m\n\u001b[1;32m      1\u001b[0m l \u001b[38;5;241m=\u001b[39m [\u001b[38;5;241m1\u001b[39m,\u001b[38;5;241m2\u001b[39m,\u001b[38;5;241m3\u001b[39m,\u001b[38;5;241m4\u001b[39m,\u001b[38;5;241m5\u001b[39m,\u001b[38;5;241m6\u001b[39m,\u001b[38;5;241m-\u001b[39m\u001b[38;5;241m1\u001b[39m,\u001b[38;5;241m-\u001b[39m\u001b[38;5;241m2\u001b[39m,\u001b[38;5;241m-\u001b[39m\u001b[38;5;241m3\u001b[39m,\u001b[38;5;241m-\u001b[39m\u001b[38;5;241m4\u001b[39m,\u001b[38;5;241m-\u001b[39m\u001b[38;5;241m5\u001b[39m,\u001b[38;5;241m0\u001b[39m]\n\u001b[0;32m----> 2\u001b[0m a \u001b[38;5;241m=\u001b[39m \u001b[38;5;28;43msorted\u001b[39;49m\u001b[43m(\u001b[49m\u001b[43ml\u001b[49m\u001b[43m \u001b[49m\u001b[43m,\u001b[49m\u001b[43m \u001b[49m\u001b[38;5;28;43;01mlambda\u001b[39;49;00m\u001b[43m \u001b[49m\u001b[43mx\u001b[49m\u001b[43m \u001b[49m\u001b[43m:\u001b[49m\u001b[43m \u001b[49m\u001b[43mx\u001b[49m\u001b[43m[\u001b[49m\u001b[38;5;241;43m0\u001b[39;49m\u001b[43m]\u001b[49m\u001b[43m)\u001b[49m\n\u001b[1;32m      3\u001b[0m \u001b[38;5;28mprint\u001b[39m(\u001b[38;5;28mlist\u001b[39m(a))\n",
      "\u001b[0;31mTypeError\u001b[0m: sorted expected 1 argument, got 2"
     ]
    }
   ],
   "source": [
    "l = [1,2,3,4,5,6,-1,-2,-3,-4,-5,0]\n",
    "a = [i for i in l if i>0 ]\n",
    "b = [i for i in l if i<0 ]"
   ]
  },
  {
   "cell_type": "code",
   "execution_count": null,
   "id": "6467c07b-8389-479e-ba5d-8d07d8f4d915",
   "metadata": {},
   "outputs": [],
   "source": []
  }
 ],
 "metadata": {
  "kernelspec": {
   "display_name": "Python 3 (ipykernel)",
   "language": "python",
   "name": "python3"
  },
  "language_info": {
   "codemirror_mode": {
    "name": "ipython",
    "version": 3
   },
   "file_extension": ".py",
   "mimetype": "text/x-python",
   "name": "python",
   "nbconvert_exporter": "python",
   "pygments_lexer": "ipython3",
   "version": "3.10.8"
  }
 },
 "nbformat": 4,
 "nbformat_minor": 5
}
